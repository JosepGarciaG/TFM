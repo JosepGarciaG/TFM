{
 "cells": [
  {
   "cell_type": "code",
   "execution_count": null,
   "id": "5a1d501a",
   "metadata": {},
   "outputs": [],
   "source": [
    "# Exemple d'harmonització de GWAS\n",
    "\n",
    "!pip install pyliftover\n",
    "!python /content/drive/MyDrive/TFM/summary-gwas-imputation/src/gwas_parsing.py \\\n",
    "-gwas_file /content/drive/MyDrive/TFM/GWAS/esquizofrenia_GCST90018919_buildGRCh37.tsv.gz \\\n",
    "-liftover /content/drive/MyDrive/TFM/hg19ToHg38.over.chain.gz \\\n",
    "-snp_reference_metadata /content/drive/MyDrive/TFM/variant_metadata.txt.gz \\\n",
    "METADATA \\\n",
    "-output_column_map variant_id variant_id \\\n",
    "-output_column_map other_allele non_effect_allele \\\n",
    "-output_column_map effect_allele effect_allele \\\n",
    "-output_column_map beta effect_size \\\n",
    "-output_column_map p_value pvalue \\\n",
    "-output_column_map chromosome chromosome --chromosome_format \\\n",
    "-output_column_map base_pair_location position \\\n",
    "-output_column_map effect_allele_frequency frequency \\\n",
    "-output_order variant_id panel_variant_id chromosome position effect_allele non_effect_allele frequency pvalue zscore effect_size standard_error sample_size n_cases \\\n",
    "-output /content/drive/MyDrive/TFM/GWAS/esquizofrenia_harm.txt.gz"
   ]
  },
  {
   "cell_type": "code",
   "execution_count": null,
   "id": "0047dc08",
   "metadata": {},
   "outputs": [],
   "source": [
    "# Exemple de generació de TWAS amb SPrediXcan.\n",
    "# Model MASHR de GTEx de l'Amygdala (en total se'n generen tretze, un per a cada teixit del cervell)\n",
    "\n",
    "!python /content/drive/MyDrive/TFM/MetaXcan/software/SPrediXcan.py \\\n",
    "--gwas_file /content/drive/MyDrive/TFM/GWAS/esquizofrenia_harm.txt.gz \\\n",
    "--snp_column panel_variant_id \\\n",
    "--effect_allele_column effect_allele \\\n",
    "--non_effect_allele_column non_effect_allele \\\n",
    "--beta_column effect_size \\\n",
    "--pvalue_column pvalue \\\n",
    "--model_db_path /content/drive/MyDrive/TFM/models/mashr_Brain_Amygdala.db \\\n",
    "--covariance /content/drive/MyDrive/TFM/models/mashr_Brain_Amygdala.txt.gz \\\n",
    "--keep_non_rsid --model_db_snp_key varID --throw \\\n",
    "--output_file /content/drive/MyDrive/TFM/GWAS/esquizofrenia_amygdala.csv"
   ]
  }
 ],
 "metadata": {
  "kernelspec": {
   "display_name": "Python 3 (ipykernel)",
   "language": "python",
   "name": "python3"
  },
  "language_info": {
   "codemirror_mode": {
    "name": "ipython",
    "version": 3
   },
   "file_extension": ".py",
   "mimetype": "text/x-python",
   "name": "python",
   "nbconvert_exporter": "python",
   "pygments_lexer": "ipython3",
   "version": "3.8.12"
  }
 },
 "nbformat": 4,
 "nbformat_minor": 5
}
