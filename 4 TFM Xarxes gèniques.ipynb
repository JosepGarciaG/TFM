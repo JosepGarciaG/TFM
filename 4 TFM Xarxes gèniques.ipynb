{
  "nbformat": 4,
  "nbformat_minor": 5,
  "metadata": {
    "kernelspec": {
      "display_name": "Python 3 (ipykernel)",
      "language": "python",
      "name": "python3"
    },
    "language_info": {
      "codemirror_mode": {
        "name": "ipython",
        "version": 3
      },
      "file_extension": ".py",
      "mimetype": "text/x-python",
      "name": "python",
      "nbconvert_exporter": "python",
      "pygments_lexer": "ipython3",
      "version": "3.8.12"
    },
    "colab": {
      "name": "4 TFM Xarxes gèniques.ipynb",
      "provenance": [],
      "collapsed_sections": []
    }
  },
  "cells": [
    {
      "cell_type": "code",
      "metadata": {
        "colab": {
          "base_uri": "https://localhost:8080/"
        },
        "id": "UUm0ua7JEMCg",
        "outputId": "f935c0a1-d16b-429f-8953-e3df5a036afe"
      },
      "source": [
        "from google.colab import drive\n",
        "drive.mount('/content/drive')"
      ],
      "id": "UUm0ua7JEMCg",
      "execution_count": null,
      "outputs": [
        {
          "output_type": "stream",
          "name": "stdout",
          "text": [
            "Mounted at /content/drive\n"
          ]
        }
      ]
    },
    {
      "cell_type": "code",
      "metadata": {
        "id": "0801fe0f"
      },
      "source": [
        "# La captura i preprocessament dels fitxers GTEx sha realitzat amb R\n",
        "# guardem les mostres de teixits del cervell en df\n",
        "\n",
        "import pandas as pd\n",
        "\n",
        "samples_amygdala = pd.read_csv(\"/content/drive/MyDrive/TFM/GTEx/GTEx_Amygdala.csv\", sep=',')\n",
        "samples_amygdala = samples_amygdala.T\n",
        "samples_anterior = pd.read_csv(\"/content/drive/MyDrive/TFM/GTEx/GTEx_Anterior.csv\", sep=',')\n",
        "samples_anterior = samples_anterior.T\n",
        "samples_caudate = pd.read_csv(\"/content/drive/MyDrive/TFM/GTEx/GTEx_Caudate.csv\", sep=',')\n",
        "samples_caudate = samples_caudate.T\n",
        "samples_cerebellar = pd.read_csv(\"/content/drive/MyDrive/TFM/GTEx/GTEX_Cerebellar.csv\", sep=',')\n",
        "samples_cerebellar = samples_cerebellar.T\n",
        "samples_cerebellum = pd.read_csv(\"/content/drive/MyDrive/TFM/GTEx/GTEx_Cerebellum.csv\", sep=',')\n",
        "samples_cerebellum = samples_cerebellum.T\n",
        "samples_cortex = pd.read_csv(\"/content/drive/MyDrive/TFM/GTEx/GTEx_Cortex.csv\", sep=',')\n",
        "samples_cortex = samples_cortex.T\n",
        "samples_frontal = pd.read_csv(\"/content/drive/MyDrive/TFM/GTEx/GTEx_Frontal.csv\", sep=',')\n",
        "samples_frontal = samples_frontal.T\n",
        "samples_hippocampus = pd.read_csv(\"/content/drive/MyDrive/TFM/GTEx/GTEx_Hippocampus.csv\", sep=',')\n",
        "samples_hippocampus = samples_hippocampus.T\n",
        "samples_hypothalamus = pd.read_csv(\"/content/drive/MyDrive/TFM/GTEx/GTEx_Hypothalamus.csv\", sep=',')\n",
        "samples_hypothalamus = samples_hypothalamus.T\n",
        "samples_nucleus = pd.read_csv(\"/content/drive/MyDrive/TFM/GTEx/GTEx_Nucleus.csv\", sep=',')\n",
        "samples_nucleus = samples_nucleus.T\n",
        "samples_putamen = pd.read_csv(\"/content/drive/MyDrive/TFM/GTEx/GTEx_Putamen.csv\", sep=',')\n",
        "samples_putamen = samples_putamen.T\n",
        "samples_spinal = pd.read_csv(\"/content/drive/MyDrive/TFM/GTEx/GTEx_Spinal.csv\", sep=',')\n",
        "samples_spinal = samples_spinal.T\n",
        "samples_substantia = pd.read_csv(\"/content/drive/MyDrive/TFM/GTEx/GTEx_Substantia.csv\", sep=',')\n",
        "samples_substantia = samples_substantia.T"
      ],
      "id": "0801fe0f",
      "execution_count": null,
      "outputs": []
    },
    {
      "cell_type": "code",
      "metadata": {
        "colab": {
          "base_uri": "https://localhost:8080/"
        },
        "id": "F9ABuRhAGgPh",
        "outputId": "c3f4eade-efdc-4972-f9e5-83143cf27f7e"
      },
      "source": [
        "print (samples_amygdala.shape, samples_anterior.shape, samples_caudate.shape, samples_cerebellar.shape, samples_cerebellum.shape, samples_cortex.shape,\\\n",
        "       samples_frontal.shape, samples_hippocampus.shape, samples_hypothalamus.shape, samples_nucleus.shape, samples_putamen.shape, samples_spinal.shape, samples_substantia.shape)"
      ],
      "id": "F9ABuRhAGgPh",
      "execution_count": null,
      "outputs": [
        {
          "output_type": "stream",
          "name": "stdout",
          "text": [
            "(56202, 152) (56202, 176) (56202, 246) (56202, 215) (56202, 241) (56202, 254) (56202, 209) (56202, 197) (56202, 202) (56202, 246) (56202, 205) (56202, 159) (56202, 139)\n"
          ]
        }
      ]
    },
    {
      "cell_type": "code",
      "metadata": {
        "id": "4e00a7b5"
      },
      "source": [
        "# funció csv_to_df\n",
        "\n",
        "# Li passes un directori TWAS i et torna una llista amb 13 df, un per cada teixit\n",
        "# dfs[0] amygdala, dfs[1] anterior, dfs[2] caudate, dfs[3] cerebellar, dfs[4] cerebellum\n",
        "# dfs[5] cortex, dfs[6] frontal, dfs[7] hippocampus, dfs[8] hypothalamus, dfs[9] nucleus\n",
        "# dfs[10] putamen, dfs[11] spinal, dfs[12] substantia\n",
        "\n",
        "\n",
        "import glob\n",
        "import pandas as pd\n",
        "\n",
        "def csv_to_df(path):\n",
        "  filenames = glob.glob(path + \"/*.csv\")\n",
        "  dfs = []\n",
        "  for filename in filenames:\n",
        "    dfs.append(pd.read_csv(filename))\n",
        "  return(dfs)\n",
        "\n"
      ],
      "id": "4e00a7b5",
      "execution_count": null,
      "outputs": []
    },
    {
      "cell_type": "code",
      "metadata": {
        "id": "_Cg6MDPPVRNP"
      },
      "source": [
        "# prova de la funció amb alzheimer\n",
        "\n",
        "alzheimer = csv_to_df(\"/content/drive/MyDrive/TFM/SPrediXcan/alzheimer\")\n",
        "alzheimer[0]"
      ],
      "id": "_Cg6MDPPVRNP",
      "execution_count": null,
      "outputs": []
    },
    {
      "cell_type": "code",
      "metadata": {
        "id": "lXtTBPrKbDJZ"
      },
      "source": [
        "# Lectura de tots els TWAS a dataframe\n",
        "\n",
        "path_list = [\"/content/drive/MyDrive/TFM/SPrediXcan/adhd\", \"/content/drive/MyDrive/TFM/SPrediXcan/alzheimer\", \\\n",
        "             \"/content/drive/MyDrive/TFM/SPrediXcan/anorexia\", \"/content/drive/MyDrive/TFM/SPrediXcan/bipolar2\", \\\n",
        "             \"/content/drive/MyDrive/TFM/SPrediXcan/depression2\", \\\n",
        "             \"/content/drive/MyDrive/TFM/SPrediXcan/multiple_sclerosis\", \"/content/drive/MyDrive/TFM/SPrediXcan/neuroticism\",\\\n",
        "             \"/content/drive/MyDrive/TFM/SPrediXcan/sleeplessness\",\"/content/drive/MyDrive/TFM/SPrediXcan/squizo\"]\n",
        "\n",
        "\n",
        "\n",
        "adhd, alzheimer, anorexia, bipolar2, depression2, multiple_sclerosis, neuroticism, sleeplessness, squizo \\\n",
        "= [csv_to_df(path) for path in path_list]"
      ],
      "id": "lXtTBPrKbDJZ",
      "execution_count": null,
      "outputs": []
    },
    {
      "cell_type": "code",
      "metadata": {
        "id": "peJMHsY7dW97"
      },
      "source": [
        "# Exemple\n",
        "\n",
        "alzheimer[0]"
      ],
      "id": "peJMHsY7dW97",
      "execution_count": null,
      "outputs": []
    },
    {
      "cell_type": "code",
      "metadata": {
        "id": "xK-uhsFEgvZA"
      },
      "source": [
        "# funció que genera una llista de 13 df, un per teixit, per aplicar matriu de correlacions, a partir d'una malaltia d'entrada\n",
        "\n",
        "import seaborn as sns\n",
        "\n",
        "samples_list = [samples_amygdala, samples_anterior, samples_caudate, samples_cerebellar, samples_cerebellum, samples_cortex, samples_frontal, samples_hippocampus, samples_hypothalamus,\\\n",
        "                samples_nucleus, samples_putamen, samples_spinal, samples_substantia]\n",
        "\n",
        "def genes_sign(malaltia):\n",
        "  df_corr = []\n",
        "  i=0\n",
        "  for samples in samples_list:\n",
        "    pvalue_corr = 0.05/len(malaltia[i].index)\n",
        "    malaltia[i] = malaltia[i][malaltia[i]['pvalue'] < pvalue_corr]\n",
        "    corr=samples[samples.index.isin(malaltia[i]['gene'])]\n",
        "    corr=corr.astype('float')\n",
        "    i=i+1\n",
        "    df_corr.append(corr)\n",
        "  return(df_corr)"
      ],
      "id": "xK-uhsFEgvZA",
      "execution_count": null,
      "outputs": []
    },
    {
      "cell_type": "code",
      "metadata": {
        "id": "Q8e_0bJJrscT"
      },
      "source": [
        "malaltia_list = [adhd, alzheimer, anorexia, bipolar2, depression2, multiple_sclerosis, neuroticism, sleeplessness, squizo]\n",
        "\n",
        "adhd_sign, alzheimer_sign, anorexia_sign, bipolar2_sign, depression2_sign, \\\n",
        "multiple_sclerosis_sign, neuroticism_sign, sleeplessness_sign, squizo_sign \\\n",
        "= [genes_sign(malaltia) for malaltia in malaltia_list]"
      ],
      "id": "Q8e_0bJJrscT",
      "execution_count": null,
      "outputs": []
    },
    {
      "cell_type": "code",
      "metadata": {
        "id": "DvMNIFvhrDRF"
      },
      "source": [
        "import matplotlib.pylab as plt\n",
        "\n",
        "def plotmatrix(malaltia):\n",
        "  for i in range(13):\n",
        "    sns.heatmap(malaltia[i].T.corr())\n",
        "    plt.show()\n"
      ],
      "id": "DvMNIFvhrDRF",
      "execution_count": null,
      "outputs": []
    },
    {
      "cell_type": "code",
      "source": [
        "alzheimer_sign[0]"
      ],
      "metadata": {
        "id": "8mKP0ESjX3xi"
      },
      "id": "8mKP0ESjX3xi",
      "execution_count": null,
      "outputs": []
    },
    {
      "cell_type": "code",
      "source": [
        "alzheimer_sign[0].T.corr()"
      ],
      "metadata": {
        "id": "YF-mMGhXYZgG"
      },
      "id": "YF-mMGhXYZgG",
      "execution_count": null,
      "outputs": []
    },
    {
      "cell_type": "code",
      "metadata": {
        "id": "Q-T06cNr9mpx"
      },
      "source": [
        "plotmatrix(adhd_sign)"
      ],
      "id": "Q-T06cNr9mpx",
      "execution_count": null,
      "outputs": []
    },
    {
      "cell_type": "code",
      "metadata": {
        "id": "EgOOZZ3nA2i4"
      },
      "source": [
        "def print_genes(malaltia):\n",
        "  for i in range(13):\n",
        "    print(malaltia[i].T.corr())"
      ],
      "id": "EgOOZZ3nA2i4",
      "execution_count": null,
      "outputs": []
    },
    {
      "cell_type": "code",
      "metadata": {
        "id": "Hj2skPus-J24"
      },
      "source": [
        "print_genes(adhd_sign)"
      ],
      "id": "Hj2skPus-J24",
      "execution_count": null,
      "outputs": []
    },
    {
      "cell_type": "code",
      "source": [
        "# Funció que converteix la llista de df de cada malaltia en un arxiu excel amb 13 pàgines, una per teixit\n",
        "\n",
        "def save_xls(list_dfs, xls_path):\n",
        "    with ExcelWriter(xls_path) as writer:\n",
        "        for n, df in enumerate(list_dfs):\n",
        "            df.to_excel(writer,'sheet%s' % n)\n",
        "        writer.save()"
      ],
      "metadata": {
        "id": "kzcopHbqiEJm"
      },
      "id": "kzcopHbqiEJm",
      "execution_count": null,
      "outputs": []
    },
    {
      "cell_type": "code",
      "source": [
        "from pandas import ExcelWriter\n",
        "\n",
        "save_xls(adhd_sign, \"/content/drive/MyDrive/TFM/genes_sign/adhd.xls\")\n",
        "save_xls(alzheimer_sign, \"/content/drive/MyDrive/TFM/genes_sign/alzheimer.xls\")\n",
        "save_xls(anorexia_sign, \"/content/drive/MyDrive/TFM/genes_sign/anorexia.xls\")\n",
        "save_xls(bipolar2_sign, \"/content/drive/MyDrive/TFM/genes_sign/bipolar2.xls\")\n",
        "save_xls(depression2_sign, \"/content/drive/MyDrive/TFM/genes_sign/depression2.xls\")\n",
        "save_xls(multiple_sclerosis_sign, \"/content/drive/MyDrive/TFM/genes_sign/multiple_sclerosis.xls\")\n",
        "save_xls(neuroticism_sign, \"/content/drive/MyDrive/TFM/genes_sign/neuroticism.xls\")\n",
        "save_xls(sleeplessness_sign, \"/content/drive/MyDrive/TFM/genes_sign/sleeplessness.xls\")\n",
        "save_xls(squizo_sign, \"/content/drive/MyDrive/TFM/genes_sign/squizo.xls\")\n"
      ],
      "metadata": {
        "id": "uXTS47nIydLq"
      },
      "id": "uXTS47nIydLq",
      "execution_count": null,
      "outputs": []
    },
    {
      "cell_type": "code",
      "source": [
        "# funció que, per a cada malaltia d'entrada, converteix una llista de df de gens significatius a una llista de df de matriu de correlacions \n",
        "\n",
        "def genes_corr(malaltia):\n",
        "  df_corr = []\n",
        "  i=0\n",
        "  for teixit in malaltia:\n",
        "    corr = malaltia[i].T.corr()\n",
        "    i=i+1\n",
        "    df_corr.append(corr)\n",
        "  return(df_corr)"
      ],
      "metadata": {
        "id": "ok_OD4pC4bb5"
      },
      "id": "ok_OD4pC4bb5",
      "execution_count": null,
      "outputs": []
    },
    {
      "cell_type": "code",
      "source": [
        "malaltia_sign_list = [adhd_sign, alzheimer_sign, anorexia_sign, bipolar2_sign, depression2_sign, \\\n",
        "                      multiple_sclerosis_sign, neuroticism_sign, sleeplessness_sign, squizo_sign]\n",
        "\n",
        "adhd_corr, alzheimer_corr, anorexia_corr, bipolar2_corr, depression2_corr, \\\n",
        "multiple_sclerosis_corr, neuroticism_corr, sleeplessness_corr, squizo_corr \\\n",
        "= [genes_corr(malaltia) for malaltia in malaltia_sign_list]"
      ],
      "metadata": {
        "id": "byyHBnP37AP5"
      },
      "id": "byyHBnP37AP5",
      "execution_count": null,
      "outputs": []
    },
    {
      "cell_type": "code",
      "source": [
        "save_xls(adhd_corr, \"/content/drive/MyDrive/TFM/genes_corr/adhd.xls\")\n",
        "save_xls(alzheimer_corr, \"/content/drive/MyDrive/TFM/genes_corr/alzheimer.xls\")\n",
        "save_xls(anorexia_corr, \"/content/drive/MyDrive/TFM/genes_corr/anorexia.xls\")\n",
        "save_xls(bipolar2_corr, \"/content/drive/MyDrive/TFM/genes_corr/bipolar2.xls\")\n",
        "save_xls(depression2_corr, \"/content/drive/MyDrive/TFM/genes_corr/depression2.xls\")\n",
        "save_xls(multiple_sclerosis_corr, \"/content/drive/MyDrive/TFM/genes_corr/multiple_sclerosis.xls\")\n",
        "save_xls(neuroticism_corr, \"/content/drive/MyDrive/TFM/genes_corr/neuroticism.xls\")\n",
        "save_xls(sleeplessness_corr, \"/content/drive/MyDrive/TFM/genes_corr/sleeplessness.xls\")\n",
        "save_xls(squizo_corr, \"/content/drive/MyDrive/TFM/genes_corr/squizo.xls\")"
      ],
      "metadata": {
        "id": "ljUYmh9z9ZS9"
      },
      "id": "ljUYmh9z9ZS9",
      "execution_count": null,
      "outputs": []
    },
    {
      "cell_type": "code",
      "source": [
        "# funció que converteix matrius de correlacions en matrius binàries 0 i 1 amb llindar 0.5 \n",
        "\n",
        "def matrix_bin(malaltia):\n",
        "  df_bin = []\n",
        "  i=0\n",
        "  for teixit in malaltia:\n",
        "    bin = malaltia[i].copy()\n",
        "    for fila in range(len(malaltia[i])):\n",
        "      for columna in range(len(malaltia[i])):\n",
        "        if malaltia[i].iloc[fila][columna] >= 0.5:\n",
        "          bin.iloc[fila][columna] = 1\n",
        "        else:\n",
        "          bin.iloc[fila][columna] = 0\n",
        "    i=i+1\n",
        "    df_bin.append(bin)\n",
        "  return(df_bin)"
      ],
      "metadata": {
        "id": "N9wu7efp_C-h"
      },
      "id": "N9wu7efp_C-h",
      "execution_count": null,
      "outputs": []
    },
    {
      "cell_type": "code",
      "source": [
        "malaltia_corr_list = [adhd_corr, alzheimer_corr, anorexia_corr, bipolar2_corr, depression2_corr, \\\n",
        "                      multiple_sclerosis_corr, neuroticism_corr, sleeplessness_corr, squizo_corr]\n",
        "\n",
        "adhd_bin, alzheimer_bin, anorexia_bin, bipolar2_bin, depression2_bin, \\\n",
        "multiple_sclerosis_bin, neuroticism_bin, sleeplessness_bin, squizo_bin \\\n",
        "= [matrix_bin(malaltia) for malaltia in malaltia_corr_list]"
      ],
      "metadata": {
        "id": "49RPXbxYfuQ6"
      },
      "id": "49RPXbxYfuQ6",
      "execution_count": null,
      "outputs": []
    },
    {
      "cell_type": "code",
      "source": [
        "from pandas import ExcelWriter\n",
        "\n",
        "save_xls(adhd_bin, \"/content/drive/MyDrive/TFM/genes_bin/adhd.xls\")\n",
        "save_xls(alzheimer_bin, \"/content/drive/MyDrive/TFM/genes_bin/alzheimer.xls\")\n",
        "save_xls(anorexia_bin, \"/content/drive/MyDrive/TFM/genes_bin/anorexia.xls\")\n",
        "save_xls(bipolar2_bin, \"/content/drive/MyDrive/TFM/genes_bin/bipolar2.xls\")\n",
        "save_xls(depression2_bin, \"/content/drive/MyDrive/TFM/genes_bin/depression2.xls\")\n",
        "save_xls(multiple_sclerosis_bin, \"/content/drive/MyDrive/TFM/genes_bin/multiple_sclerosis.xls\")\n",
        "save_xls(neuroticism_bin, \"/content/drive/MyDrive/TFM/genes_bin/neuroticism.xls\")\n",
        "save_xls(sleeplessness_bin, \"/content/drive/MyDrive/TFM/genes_bin/sleeplessness.xls\")\n",
        "save_xls(squizo_bin, \"/content/drive/MyDrive/TFM/genes_bin/squizo.xls\")"
      ],
      "metadata": {
        "id": "OMSMTIS2ClWL"
      },
      "id": "OMSMTIS2ClWL",
      "execution_count": null,
      "outputs": []
    },
    {
      "cell_type": "code",
      "source": [
        "# funció amb entrada matriu binària i et dóna una taula amb: nom malaltia, nom teixit, ràtio de connexió i número de gens\n",
        "\n",
        "def ratio_conn(nom, malaltia):\n",
        "  tissue = ['amygdala', 'anterior', 'caudate', 'cerebellar','cerebellum','cortex','frontal', \\\n",
        "          'hippocampus','hypothalamus','nucleus','putamen','spinal','substantia']\n",
        "  df_taula = pd.DataFrame(columns=['malaltia','teixit','connexió','mida'])\n",
        "  i=0\n",
        "  for teixit in malaltia:\n",
        "    mida=len(malaltia[i])\n",
        "    totaluns = (malaltia[i].values == 1).sum()\n",
        "    xarxa = (totaluns-mida)/(mida**2-mida)\n",
        "    list = [nom, tissue[i], round(xarxa,2), mida]\n",
        "    df_taula.loc[len(df_taula)] = list\n",
        "    i=i+1\n",
        "  return(df_taula)\n"
      ],
      "metadata": {
        "id": "vFtGplbQ_-2A"
      },
      "id": "vFtGplbQ_-2A",
      "execution_count": null,
      "outputs": []
    },
    {
      "cell_type": "code",
      "source": [
        "taula_adhd = ratio_conn(\"adhd\", adhd_bin)\n",
        "taula_alzheimer = ratio_conn(\"alzheimer\", alzheimer_bin)\n",
        "taula_anorexia = ratio_conn(\"anorexia\", anorexia_bin)\n",
        "taula_bipolar2 = ratio_conn(\"bipolar2\", bipolar2_bin)\n",
        "taula_depression2 = ratio_conn(\"depression2\", depression2_bin)\n",
        "taula_multiple_sclerosis = ratio_conn(\"multiple_sclerosis\", multiple_sclerosis_bin)\n",
        "taula_neuroticism = ratio_conn(\"neuroticism\", neuroticism_bin)\n",
        "taula_sleeplessness = ratio_conn(\"sleeplessness\", sleeplessness_bin)\n",
        "taula_squizo = ratio_conn(\"squizo\", squizo_bin)\n"
      ],
      "metadata": {
        "id": "rrtN27ec1uzd"
      },
      "id": "rrtN27ec1uzd",
      "execution_count": null,
      "outputs": []
    },
    {
      "cell_type": "code",
      "source": [
        "taula_adhd.to_excel(\"/content/drive/MyDrive/TFM/taules/taula_adhd.xls\")\n",
        "taula_alzheimer.to_excel(\"/content/drive/MyDrive/TFM/taules/taula_alzheimer.xls\")\n",
        "taula_anorexia.to_excel(\"/content/drive/MyDrive/TFM/taules/taula_anorexia.xls\")\n",
        "taula_bipolar2.to_excel(\"/content/drive/MyDrive/TFM/taules/taula_bipolar2.xls\")\n",
        "taula_depression2.to_excel(\"/content/drive/MyDrive/TFM/taules/taula_depression2.xls\")\n",
        "taula_multiple_sclerosis.to_excel(\"/content/drive/MyDrive/TFM/taules/taula_multiple_sclerosis.xls\")\n",
        "taula_neuroticism.to_excel(\"/content/drive/MyDrive/TFM/taules/taula_neuroticism.xls\")\n",
        "taula_sleeplessness.to_excel(\"/content/drive/MyDrive/TFM/taules/taula_sleeplessness.xls\")\n",
        "taula_squizo.to_excel(\"/content/drive/MyDrive/TFM/taules/taula_squizo.xls\")\n",
        "\n"
      ],
      "metadata": {
        "id": "_vrvZX85xOc4"
      },
      "id": "_vrvZX85xOc4",
      "execution_count": null,
      "outputs": []
    }
  ]
}
